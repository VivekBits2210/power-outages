{
 "cells": [
  {
   "cell_type": "code",
   "execution_count": 4,
   "id": "295a703a",
   "metadata": {},
   "outputs": [
    {
     "data": {
      "text/plain": [
       "['https://bescom.karnataka.gov.in/storage/pdf-files/Planned%20Outages/01-02-2022.xlsx',\n",
       " 'https://bescom.karnataka.gov.in/storage/pdf-files/Planned%20Outages/02-02-2022.xlsx',\n",
       " 'https://bescom.karnataka.gov.in/storage/pdf-files/Planned%20Outages/02-02-2022.xlsx',\n",
       " 'https://bescom.karnataka.gov.in/storage/pdf-files/Planned%20Outages/03-02-2022.xlsx',\n",
       " 'https://bescom.karnataka.gov.in/storage/pdf-files/Planned%20Outages/04-02-2022.xlsx',\n",
       " 'https://bescom.karnataka.gov.in/storage/pdf-files/Planned%20Outages/05-02-2022.xlsx',\n",
       " 'https://bescom.karnataka.gov.in/storage/pdf-files/Planned%20Outages/06-02-2022.xlsx',\n",
       " 'https://bescom.karnataka.gov.in/storage/pdf-files/Planned%20Outages/07-02-2022.xlsx',\n",
       " 'https://bescom.karnataka.gov.in/storage/pdf-files/Planned%20Outages/08-02-2022.xlsx',\n",
       " 'https://bescom.karnataka.gov.in/storage/pdf-files/Planned%20Outages/09-02-2022.xlsx',\n",
       " 'https://bescom.karnataka.gov.in/storage/pdf-files/Planned%20Outages/10-02-2022.xlsx',\n",
       " 'https://bescom.karnataka.gov.in/storage/pdf-files/Planned%20Outages/11-02-2022.xlsx',\n",
       " 'https://bescom.karnataka.gov.in/storage/pdf-files/Planned%20Outages/12-02-2022.xlsx',\n",
       " 'https://bescom.karnataka.gov.in/storage/pdf-files/Planned%20Outages/13-02-2022.xlsx',\n",
       " 'https://bescom.karnataka.gov.in/storage/pdf-files/Planned%20Outages/14-02-2022.xlsx',\n",
       " 'https://bescom.karnataka.gov.in/storage/pdf-files/Planned%20Outages/15-02-2022.xlsx',\n",
       " 'https://bescom.karnataka.gov.in/storage/pdf-files/Planned%20Outages/16-02-2022.xlsx',\n",
       " 'https://bescom.karnataka.gov.in/storage/pdf-files/Planned%20Outages/17-02-2022.xlsx',\n",
       " 'https://bescom.karnataka.gov.in/storage/pdf-files/Planned%20Outages/18-02-2022.xlsx',\n",
       " 'https://bescom.karnataka.gov.in/storage/pdf-files/Planned%20Outages/19-02-2022.xlsx',\n",
       " 'https://bescom.karnataka.gov.in/storage/pdf-files/Planned%20Outages/20-02-2022.xlsx',\n",
       " 'https://bescom.karnataka.gov.in/storage/pdf-files/Planned%20Outages/21-02-2022.xlsx',\n",
       " 'https://bescom.karnataka.gov.in/storage/pdf-files/Planned%20Outages/22-02-2022.xlsx',\n",
       " 'https://bescom.karnataka.gov.in/storage/pdf-files/Planned%20Outages/23-02-2022.xlsx',\n",
       " 'https://bescom.karnataka.gov.in/storage/pdf-files/Planned%20Outages/24-02-2022.xlsx',\n",
       " 'https://bescom.karnataka.gov.in/storage/pdf-files/Planned%20Outages/25-02-2022.xlsx',\n",
       " 'https://bescom.karnataka.gov.in/storage/pdf-files/Planned%20Outages/26-02-2022.xlsx',\n",
       " 'https://bescom.karnataka.gov.in/storage/pdf-files/Planned%20Outages/27-02-2022.xlsx',\n",
       " 'https://bescom.karnataka.gov.in/storage/pdf-files/Planned%20Outages/28-02-2022.xlsx',\n",
       " 'https://bescom.karnataka.gov.in/storage/pdf-files/Planned%20Outages/KPTCL%20LC%20for%20the%20month%20of%20FEB%202022.xlsx']"
      ]
     },
     "execution_count": 4,
     "metadata": {},
     "output_type": "execute_result"
    }
   ],
   "source": [
    "import os\n",
    "import urllib\n",
    "import requests\n",
    "import datetime as dt\n",
    "import dateutil.parser as dparser\n",
    "import numpy as np\n",
    "import pandas as pd\n",
    "pd.set_option('display.max_columns',100)\n",
    "pd.set_option('display.max_rows',1000)\n",
    "\n",
    "# Get links from website\n",
    "html = requests.get(\"https://bescom.karnataka.gov.in/new-page/Planned%20Outages%20-%20BESCOM%20Works/en\").text\n",
    "try: \n",
    "    from BeautifulSoup import BeautifulSoup\n",
    "except ImportError:\n",
    "    from bs4 import BeautifulSoup\n",
    "soup = BeautifulSoup(html)\n",
    "links = [link.get('href').strip().replace(\" \", \"%20\") for link in soup.find_all('a',href=True) if '.xlsx' in link.get('href') and 'Outage' in link.get('href')]\n",
    "links"
   ]
  },
  {
   "cell_type": "code",
   "execution_count": 5,
   "id": "7ef5bfb5",
   "metadata": {},
   "outputs": [
    {
     "name": "stdout",
     "output_type": "stream",
     "text": [
      "01-02-2022.xlsx collected!\n",
      "02-02-2022.xlsx collected!\n",
      "02-02-2022.xlsx collected!\n",
      "03-02-2022.xlsx collected!\n",
      "04-02-2022.xlsx collected!\n",
      "05-02-2022.xlsx collected!\n",
      "06-02-2022.xlsx collected!\n",
      "07-02-2022.xlsx collected!\n",
      "08-02-2022.xlsx collected!\n",
      "09-02-2022.xlsx collected!\n",
      "10-02-2022.xlsx collected!\n",
      "11-02-2022.xlsx collected!\n",
      "12-02-2022.xlsx collected!\n",
      "13-02-2022.xlsx collected!\n",
      "14-02-2022.xlsx collected!\n",
      "15-02-2022.xlsx collected!\n",
      "16-02-2022.xlsx collected!\n",
      "17-02-2022.xlsx collected!\n",
      "18-02-2022.xlsx collected!\n",
      "19-02-2022.xlsx collected!\n",
      "20-02-2022.xlsx collected!\n",
      "21-02-2022.xlsx collected!\n",
      "22-02-2022.xlsx collected!\n",
      "23-02-2022.xlsx collected!\n",
      "24-02-2022.xlsx collected!\n",
      "25-02-2022.xlsx collected!\n",
      "26-02-2022.xlsx collected!\n",
      "27-02-2022.xlsx collected!\n",
      "28-02-2022.xlsx collected!\n",
      "KPTCL%20LC%20for%20the%20month%20of%20FEB%202022.xlsx collected!\n"
     ]
    }
   ],
   "source": [
    "# Save files from links\n",
    "file_path_list = []\n",
    "for link in links:\n",
    "    try:\n",
    "        filename = link.split(\"/\")[-1]\n",
    "        urllib.request.urlretrieve(link, filename)\n",
    "        file_path_list.append(filename)\n",
    "        print(f\"{filename} collected!\")\n",
    "    except Exception as e:\n",
    "        print(f\"{link} link broken?\")\n",
    "        print(f\"{repr(e)}\")"
   ]
  },
  {
   "cell_type": "code",
   "execution_count": 6,
   "id": "5c403b5e",
   "metadata": {},
   "outputs": [
    {
     "name": "stdout",
     "output_type": "stream",
     "text": [
      "01-02-2022.xlsx  60 31\n",
      "02-02-2022.xlsx  173 22\n",
      "02-02-2022.xlsx  173 22\n",
      "03-02-2022.xlsx  203 22\n",
      "04-02-2022.xlsx  208 22\n",
      "05-02-2022.xlsx  205 22\n",
      "06-02-2022.xlsx  134 22\n",
      "07-02-2022.xlsx  254 22\n",
      "08-02-2022.xlsx  192 22\n",
      "09-02-2022.xlsx  209 22\n",
      "10-02-2022.xlsx  204 22\n",
      "11-02-2022.xlsx  192 22\n",
      "12-02-2022.xlsx  103 22\n",
      "13-02-2022.xlsx  95 22\n",
      "14-02-2022.xlsx  204 22\n",
      "15-02-2022.xlsx  176 22\n",
      "16-02-2022.xlsx  133 22\n",
      "17-02-2022.xlsx  156 22\n",
      "18-02-2022.xlsx  147 22\n",
      "19-02-2022.xlsx  131 22\n",
      "20-02-2022.xlsx  63 22\n",
      "21-02-2022.xlsx  136 22\n",
      "22-02-2022.xlsx  122 22\n",
      "23-02-2022.xlsx  122 22\n",
      "24-02-2022.xlsx  119 22\n",
      "25-02-2022.xlsx  124 22\n",
      "26-02-2022.xlsx  43 22\n",
      "27-02-2022.xlsx  43 22\n",
      "28-02-2022.xlsx  103 22\n",
      "KPTCL%20LC%20for%20the%20month%20of%20FEB%202022.xlsx  1 19\n"
     ]
    }
   ],
   "source": [
    "# Fetch files\n",
    "dfs = {}\n",
    "for file in file_path_list:\n",
    "    df = pd.read_excel(file)\n",
    "    print(f\"{file}  {len(df)} {len(df.keys())}\")\n",
    "    dfs[file] = df"
   ]
  },
  {
   "cell_type": "code",
   "execution_count": 7,
   "id": "5cf1c4ef",
   "metadata": {},
   "outputs": [
    {
     "data": {
      "text/plain": [
       "84     2022-02-02\n",
       "668    2022-05-02\n",
       "1661   2022-10-02\n",
       "2261   2022-02-14\n",
       "2924   2022-02-18\n",
       "3516   2022-02-23\n",
       "3874   2022-02-26\n",
       "Name: date_date, dtype: datetime64[ns]"
      ]
     },
     "execution_count": 7,
     "metadata": {},
     "output_type": "execute_result"
    }
   ],
   "source": [
    "dfs_list = list(dfs.values())\n",
    "\n",
    "# Mergability check\n",
    "# assert all([len(dfs_list[0].columns.intersection(df.columns)) == dfs_list[0].shape[1] for df in dfs_list])\n",
    "\n",
    "# Merge \n",
    "final_df = pd.concat(dfs_list, ignore_index=True).astype(str)\n",
    "final_df.columns = final_df.columns.str.lower()\n",
    "final_df.dropna(axis=0, how='all', inplace=True)\n",
    "\n",
    "#Filter columns\n",
    "important_columns = []\n",
    "important_words = ['to', 'from', 'unit', 'date', 'feeder', 'nomen', 'area'\n",
    "]\n",
    "for col in final_df.columns:\n",
    "    if any(important_word in col for important_word in important_words):\n",
    "        important_columns.append(col)\n",
    "        \n",
    "final_df = final_df[important_columns]\n",
    "specific_df = final_df[(final_df.values=='Marathalli').any(1)]\n",
    "mask = np.column_stack([specific_df[col].str.contains(\"F10-TULASI-THEATER-ROAD\", na=False) for col in specific_df])\n",
    "specific_df = specific_df.loc[mask.any(axis=1)]\n",
    "specific_df['date_date'] = None\n",
    "\n",
    "for col in specific_df.columns:\n",
    "    if 'date' in col:\n",
    "        try:\n",
    "            specific_df['date_date'] = specific_df[col].apply(lambda x: dparser.parse(x,fuzzy=True))\n",
    "        except:\n",
    "            continue\n",
    "        \n",
    "\n",
    "specific_df['date_date']"
   ]
  },
  {
   "cell_type": "code",
   "execution_count": 13,
   "id": "596f076f",
   "metadata": {},
   "outputs": [],
   "source": [
    "today = dt.datetime.now().date() - dt.timedelta(days=3)"
   ]
  },
  {
   "cell_type": "code",
   "execution_count": 18,
   "id": "e73768ad",
   "metadata": {},
   "outputs": [
    {
     "data": {
      "text/plain": [
       "'2022-02-02'"
      ]
     },
     "execution_count": 18,
     "metadata": {},
     "output_type": "execute_result"
    }
   ],
   "source": [
    "str(today)"
   ]
  },
  {
   "cell_type": "code",
   "execution_count": 20,
   "id": "0fa56a89",
   "metadata": {},
   "outputs": [
    {
     "data": {
      "text/plain": [
       "True"
      ]
     },
     "execution_count": 20,
     "metadata": {},
     "output_type": "execute_result"
    }
   ],
   "source": [
    "str(today) in list(specific_df['date_date'].astype(str))"
   ]
  },
  {
   "cell_type": "code",
   "execution_count": null,
   "id": "c86bdf6b",
   "metadata": {},
   "outputs": [],
   "source": []
  },
  {
   "cell_type": "code",
   "execution_count": null,
   "id": "ddb355e2",
   "metadata": {},
   "outputs": [],
   "source": []
  }
 ],
 "metadata": {
  "kernelspec": {
   "display_name": "Python 3 (ipykernel)",
   "language": "python",
   "name": "python3"
  },
  "language_info": {
   "codemirror_mode": {
    "name": "ipython",
    "version": 3
   },
   "file_extension": ".py",
   "mimetype": "text/x-python",
   "name": "python",
   "nbconvert_exporter": "python",
   "pygments_lexer": "ipython3",
   "version": "3.10.1"
  }
 },
 "nbformat": 4,
 "nbformat_minor": 5
}
